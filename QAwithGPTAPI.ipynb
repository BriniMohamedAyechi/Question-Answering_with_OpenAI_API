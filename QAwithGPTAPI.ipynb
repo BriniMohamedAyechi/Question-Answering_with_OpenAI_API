{
  "nbformat": 4,
  "nbformat_minor": 0,
  "metadata": {
    "colab": {
      "provenance": [],
      "gpuType": "T4",
      "authorship_tag": "ABX9TyPL3rtXqysW1cNCOAHwkVzq",
      "include_colab_link": true
    },
    "kernelspec": {
      "name": "python3",
      "display_name": "Python 3"
    },
    "language_info": {
      "name": "python"
    },
    "accelerator": "GPU"
  },
  "cells": [
    {
      "cell_type": "markdown",
      "metadata": {
        "id": "view-in-github",
        "colab_type": "text"
      },
      "source": [
        "<a href=\"https://colab.research.google.com/github/BriniMohamedAyechi/Question-Answering_with_OpenAI_API/blob/main/QAwithGPTAPI.ipynb\" target=\"_parent\"><img src=\"https://colab.research.google.com/assets/colab-badge.svg\" alt=\"Open In Colab\"/></a>"
      ]
    },
    {
      "cell_type": "code",
      "source": [
        "import openai\n",
        "import pdfplumber\n",
        "\n",
        "openai.api_key = \"API_KEY_HERE\"\n",
        "\n",
        "def extract_text_from_pdf(pdf_file_path):\n",
        "    with pdfplumber.open(pdf_file_path) as pdf:\n",
        "        text = \"\"\n",
        "        for page in pdf.pages:\n",
        "            text += page.extract_text()\n",
        "    return text\n",
        "\n",
        "def generate_answer(context, question):\n",
        "    prompt = f\"Context: {context}\\nQuestion: {question}\\nAnswer:\"\n",
        "    response = openai.Completion.create(\n",
        "        engine=\"davinci\",\n",
        "        prompt=prompt,\n",
        "        max_tokens=50  # Adjust based on desired answer length\n",
        "    )\n",
        "    return response.choices[0].text.strip()\n",
        "\n",
        "# Input the question and PDF file path\n",
        "question = input(\"Enter your question: \")\n",
        "pdf_path = input(\"Enter the path to the PDF file: \")\n",
        "\n",
        "pdf_text = extract_text_from_pdf(pdf_path)\n",
        "answer = generate_answer(pdf_text, question)\n",
        "\n",
        "print(\"Generated Answer:\", answer)\n"
      ],
      "metadata": {
        "colab": {
          "base_uri": "https://localhost:8080/"
        },
        "id": "0_U0UkV9s6n7",
        "outputId": "53c8f8be-daad-4b5a-f2ad-b6e13d848cb6"
      },
      "execution_count": null,
      "outputs": [
        {
          "output_type": "stream",
          "name": "stdout",
          "text": [
            "Enter your question: does this document contain password complexity ?\n",
            "Enter the path to the PDF file: /content/sample_data/Password_policy.pdf\n",
            "Generated Answer: Yes, in the sample template there is a section which describes the complexity test as follows:\n",
            "Consists of 8 or more non alpha-numeric characters\n",
            "The phrase ” Common Passwords ” is also highlighted in the document for emphasis\n"
          ]
        }
      ]
    }
  ]
}
